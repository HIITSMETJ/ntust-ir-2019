{
 "cells": [
  {
   "cell_type": "code",
   "execution_count": 1,
   "metadata": {
    "ExecuteTime": {
     "end_time": "2019-10-02T08:47:21.986516Z",
     "start_time": "2019-10-02T08:47:21.908390Z"
    }
   },
   "outputs": [],
   "source": [
    "import numpy as np\n",
    "import collections "
   ]
  },
  {
   "cell_type": "markdown",
   "metadata": {},
   "source": [
    "# Readfile"
   ]
  },
  {
   "cell_type": "code",
   "execution_count": 2,
   "metadata": {
    "ExecuteTime": {
     "end_time": "2019-10-02T08:47:22.002141Z",
     "start_time": "2019-10-02T08:47:21.986516Z"
    }
   },
   "outputs": [],
   "source": [
    "text_file = open('./doc_list.txt', \"r\")\n",
    "docs = text_file.read().splitlines()"
   ]
  },
  {
   "cell_type": "code",
   "execution_count": 3,
   "metadata": {},
   "outputs": [],
   "source": [
    "text_file = open('./query_list.txt', \"r\")\n",
    "queries = text_file.read().splitlines()"
   ]
  },
  {
   "cell_type": "code",
   "execution_count": 4,
   "metadata": {},
   "outputs": [],
   "source": [
    "doc_list=[]\n",
    "for doc in docs:\n",
    "    f=open('./Document/'+ doc)\n",
    "    content = f.read().split()[5:]\n",
    "    content = [x for x in content if x != '-1']\n",
    "    doc_list.append(content)"
   ]
  },
  {
   "cell_type": "code",
   "execution_count": 5,
   "metadata": {},
   "outputs": [],
   "source": [
    "qry_list=[]\n",
    "for qry in queries:\n",
    "    f=open('./Query/'+ qry)\n",
    "    content = f.read().split()    \n",
    "    content = [x for x in content if x != '-1']\n",
    "    qry_list.append(content)"
   ]
  },
  {
   "cell_type": "markdown",
   "metadata": {},
   "source": [
    "# Lexicon"
   ]
  },
  {
   "cell_type": "code",
   "execution_count": 6,
   "metadata": {},
   "outputs": [],
   "source": [
    "def creat_lexicon(doc_list):\n",
    "    flattened = [val for sublist in doc_list for val in sublist]\n",
    "    all_words=list(set(flattened))\n",
    "    lexicon=dict(zip(all_words,list(range(len(all_words)))))\n",
    "    return lexicon"
   ]
  },
  {
   "cell_type": "markdown",
   "metadata": {},
   "source": [
    "# Term Frequency"
   ]
  },
  {
   "cell_type": "code",
   "execution_count": 7,
   "metadata": {},
   "outputs": [],
   "source": [
    "def get_tf(lexicon, file_list, weight=\"Raw Frequency\", sigma = 0.5):\n",
    "    \n",
    "    tf=np.zeros((len(lexicon),len(file_list)))\n",
    "    for j in range(len(file_list)): \n",
    "        content=file_list[j]\n",
    "        count=dict(collections.Counter(content)) \n",
    "        for word in count:\n",
    "            if word in lexicon:\n",
    "                i=lexicon[word]\n",
    "                tf[i][j]=count[word]\n",
    "    \n",
    "    if weight==\"Raw Frequency\":    \n",
    "        pass\n",
    "    \n",
    "    elif weight==\"Log Normalization\":\n",
    "        tf = 1+np.log2(tf)\n",
    "    \n",
    "    elif weight==\"Double Normalization\":\n",
    "        tf_max=np.amax(tf,axis=1).reshape(-1,1)\n",
    "        tf = sigma+(1-sigma)*(tf/tf_max)\n",
    "       \n",
    "    return tf\n",
    "    "
   ]
  },
  {
   "cell_type": "markdown",
   "metadata": {},
   "source": [
    "# Inverse Document Frequency"
   ]
  },
  {
   "cell_type": "code",
   "execution_count": 8,
   "metadata": {},
   "outputs": [],
   "source": [
    "def get_idf(lexicon, file_list, weight ='Inverse Frequency'):\n",
    "    \n",
    "    df=np.zeros(len(lexicon))\n",
    "    for j in range(len(file_list)): \n",
    "        appear=np.zeros(len(lexicon))\n",
    "        content=file_list[j]\n",
    "        count=dict(collections.Counter(content)) \n",
    "        for word in count:\n",
    "            if word in lexicon:\n",
    "                i=lexicon[word]\n",
    "                appear[i]=1\n",
    "        df=np.add(df,appear)\n",
    "    \n",
    "    if weight =='Inverse Frequency':\n",
    "        idf = np.log(len(file_list)/df)\n",
    "    \n",
    "    elif weight =='Inverse Frequency Smooth':\n",
    "        idf = np.log(1 + len(file_list)/df)\n",
    "    \n",
    "    elif weight =='Inverse Frequency Max':\n",
    "        idf = np.log(1 + max(df)/df)\n",
    "    \n",
    "    elif weight =='Probabilistic Inverse Frequency':\n",
    "        idf = np.log((len(file_list)-df)/df)\n",
    "    idf = idf.reshape(-1, 1)\n",
    "    return idf"
   ]
  },
  {
   "cell_type": "markdown",
   "metadata": {},
   "source": [
    "# Term Weight"
   ]
  },
  {
   "cell_type": "code",
   "execution_count": 9,
   "metadata": {},
   "outputs": [],
   "source": [
    "def get_term_weight(lexicon, doc_list, qry_list, scheme = 1):\n",
    "    \n",
    "    if scheme==1:\n",
    "        \n",
    "        doc_tf=get_tf(lexicon, doc_list)\n",
    "        qry_tf=get_tf(lexicon, qry_list, weight=\"Double Normalization\")\n",
    "        idf=get_idf(lexicon, doc_list)\n",
    "        \n",
    "        doc_weight=np.multiply(doc_tf,idf)\n",
    "        qry_weight=np.multiply(qry_tf,idf)\n",
    "    \n",
    "    elif scheme==2:\n",
    "        \n",
    "        doc_tf=get_tf(lexicon, doc_list)\n",
    "        qry_tf=get_tf(lexicon, qry_list)\n",
    "        idf=get_idf(lexicon, doc_list, weight=\"Inverse Frequency Smooth\")\n",
    "        \n",
    "        doc_weight=np.add(doc_tf,1)\n",
    "        qry_weight=np.multiply(qry_tf,idf)\n",
    "        \n",
    "    elif scheme==3:\n",
    "        \n",
    "        doc_tf=get_tf(lexicon, doc_list)\n",
    "        qry_tf=get_tf(lexicon, qry_list)\n",
    "        idf=get_idf(lexicon, doc_list)\n",
    "        \n",
    "        doc_weight=np.multiply(doc_tf,idf)\n",
    "        qry_weight=np.multiply(qry_tf,idf)\n",
    "        \n",
    "    qry_weight=np.transpose(qry_weight)\n",
    "    doc_weight=np.transpose(doc_weight)\n",
    "    return qry_weight,doc_weight"
   ]
  },
  {
   "cell_type": "markdown",
   "metadata": {},
   "source": [
    "# Cosine Similarity"
   ]
  },
  {
   "cell_type": "code",
   "execution_count": 10,
   "metadata": {},
   "outputs": [],
   "source": [
    "def cos_sim(v1,v2):\n",
    "    return np.dot(v1,v2)/(np.linalg.norm(v1)*np.linalg.norm(v2))"
   ]
  },
  {
   "cell_type": "markdown",
   "metadata": {},
   "source": [
    "# Ranking & Output result"
   ]
  },
  {
   "cell_type": "markdown",
   "metadata": {},
   "source": [
    "* scheme=3, score=0.55128\n",
    "* scheme=2, score=0.13736\n",
    "* scheme=1, score=0.01975"
   ]
  },
  {
   "cell_type": "code",
   "execution_count": 11,
   "metadata": {},
   "outputs": [
    {
     "name": "stdout",
     "output_type": "stream",
     "text": [
      "Wall time: 495 ms\n"
     ]
    }
   ],
   "source": [
    "%%time\n",
    "\n",
    "lexicon=creat_lexicon(doc_list)\n",
    "qtw,dtw=get_term_weight(lexicon, doc_list, qry_list, scheme = 3)"
   ]
  },
  {
   "cell_type": "code",
   "execution_count": 12,
   "metadata": {},
   "outputs": [
    {
     "name": "stdout",
     "output_type": "stream",
     "text": [
      "Wall time: 5.93 s\n"
     ]
    }
   ],
   "source": [
    "%%time\n",
    "\n",
    "fname = \"./result.txt\"\n",
    "f = open(fname, 'w')\n",
    "f.write(\"Query,RetrievedDocuments\\n\")  \n",
    "\n",
    "for q in range(len(qry_list)):\n",
    "    f.write(queries[q] + \",\")   \n",
    "    \n",
    "    for j in range(len(doc_list)):         \n",
    "        if j==0:\n",
    "            sim=cos_sim(qtw[q],dtw[j])\n",
    "        else:\n",
    "            sim=np.append(sim,cos_sim(qtw[q],dtw[j]))\n",
    "        \n",
    "    rank = np.argsort(-sim)\n",
    "    for j in rank:\n",
    "        f.write(docs[j]+\" \")\n",
    "    f.write(\"\\n\")\n",
    "f.close()"
   ]
  },
  {
   "cell_type": "markdown",
   "metadata": {},
   "source": [
    "# check result"
   ]
  },
  {
   "cell_type": "code",
   "execution_count": 13,
   "metadata": {},
   "outputs": [],
   "source": [
    "# text_file = open('./result.txt', \"r\")\n",
    "# result = text_file.read().splitlines()\n",
    "# text_file.close()"
   ]
  },
  {
   "cell_type": "code",
   "execution_count": 14,
   "metadata": {},
   "outputs": [],
   "source": [
    "# text_file = open('./result_last.txt', \"r\")\n",
    "# result_last = text_file.read().splitlines()\n",
    "# text_file.close()"
   ]
  },
  {
   "cell_type": "code",
   "execution_count": 15,
   "metadata": {},
   "outputs": [],
   "source": [
    "# result==result_last"
   ]
  }
 ],
 "metadata": {
  "kernelspec": {
   "display_name": "Python 3",
   "language": "python",
   "name": "python3"
  },
  "language_info": {
   "codemirror_mode": {
    "name": "ipython",
    "version": 3
   },
   "file_extension": ".py",
   "mimetype": "text/x-python",
   "name": "python",
   "nbconvert_exporter": "python",
   "pygments_lexer": "ipython3",
   "version": "3.7.3"
  },
  "toc": {
   "base_numbering": 1,
   "nav_menu": {},
   "number_sections": true,
   "sideBar": true,
   "skip_h1_title": false,
   "title_cell": "Table of Contents",
   "title_sidebar": "Contents",
   "toc_cell": false,
   "toc_position": {},
   "toc_section_display": true,
   "toc_window_display": false
  },
  "varInspector": {
   "cols": {
    "lenName": 16,
    "lenType": 16,
    "lenVar": 40
   },
   "kernels_config": {
    "python": {
     "delete_cmd_postfix": "",
     "delete_cmd_prefix": "del ",
     "library": "var_list.py",
     "varRefreshCmd": "print(var_dic_list())"
    },
    "r": {
     "delete_cmd_postfix": ") ",
     "delete_cmd_prefix": "rm(",
     "library": "var_list.r",
     "varRefreshCmd": "cat(var_dic_list()) "
    }
   },
   "types_to_exclude": [
    "module",
    "function",
    "builtin_function_or_method",
    "instance",
    "_Feature"
   ],
   "window_display": false
  }
 },
 "nbformat": 4,
 "nbformat_minor": 2
}
