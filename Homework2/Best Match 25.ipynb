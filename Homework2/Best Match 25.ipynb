{
 "cells": [
  {
   "cell_type": "code",
   "execution_count": 1,
   "metadata": {
    "ExecuteTime": {
     "end_time": "2019-10-13T04:04:09.470187Z",
     "start_time": "2019-10-13T04:04:09.467187Z"
    }
   },
   "outputs": [],
   "source": [
    "import numpy as np\n",
    "import collections "
   ]
  },
  {
   "cell_type": "markdown",
   "metadata": {},
   "source": [
    "# Readfile"
   ]
  },
  {
   "cell_type": "code",
   "execution_count": 2,
   "metadata": {
    "ExecuteTime": {
     "end_time": "2019-10-13T04:04:09.482186Z",
     "start_time": "2019-10-13T04:04:09.473185Z"
    }
   },
   "outputs": [],
   "source": [
    "text_file = open('./doc_list.txt', \"r\")\n",
    "docs = text_file.read().splitlines()"
   ]
  },
  {
   "cell_type": "code",
   "execution_count": 3,
   "metadata": {
    "ExecuteTime": {
     "end_time": "2019-10-13T04:04:09.494186Z",
     "start_time": "2019-10-13T04:04:09.485188Z"
    }
   },
   "outputs": [],
   "source": [
    "text_file = open('./query_list.txt', \"r\")\n",
    "queries = text_file.read().splitlines()"
   ]
  },
  {
   "cell_type": "code",
   "execution_count": 4,
   "metadata": {
    "ExecuteTime": {
     "end_time": "2019-10-13T04:04:09.942185Z",
     "start_time": "2019-10-13T04:04:09.497187Z"
    }
   },
   "outputs": [],
   "source": [
    "doc_list=[]\n",
    "for doc in docs:\n",
    "    f=open('./Document/'+ doc)\n",
    "    content = f.read().split()[5:]\n",
    "    content = [x for x in content if x != '-1']\n",
    "    doc_list.append(content)"
   ]
  },
  {
   "cell_type": "code",
   "execution_count": 5,
   "metadata": {
    "ExecuteTime": {
     "end_time": "2019-10-13T04:04:09.953186Z",
     "start_time": "2019-10-13T04:04:09.944186Z"
    }
   },
   "outputs": [],
   "source": [
    "qry_list=[]\n",
    "for qry in queries:\n",
    "    f=open('./Query/'+ qry)\n",
    "    content = f.read().split()    \n",
    "    content = [x for x in content if x != '-1']\n",
    "    qry_list.append(content)"
   ]
  },
  {
   "cell_type": "markdown",
   "metadata": {},
   "source": [
    "# Lexicon"
   ]
  },
  {
   "cell_type": "code",
   "execution_count": 6,
   "metadata": {
    "ExecuteTime": {
     "end_time": "2019-10-13T04:04:09.960186Z",
     "start_time": "2019-10-13T04:04:09.955186Z"
    }
   },
   "outputs": [],
   "source": [
    "def creat_lexicon(doc_list):\n",
    "    flattened = [val for sublist in doc_list for val in sublist]\n",
    "    all_words=list(set(flattened))\n",
    "    lexicon=dict(zip(all_words,list(range(len(all_words)))))\n",
    "    return lexicon"
   ]
  },
  {
   "cell_type": "markdown",
   "metadata": {},
   "source": [
    "# Term Frequency"
   ]
  },
  {
   "cell_type": "code",
   "execution_count": 7,
   "metadata": {
    "ExecuteTime": {
     "end_time": "2019-10-13T04:04:09.970186Z",
     "start_time": "2019-10-13T04:04:09.963185Z"
    }
   },
   "outputs": [],
   "source": [
    "def get_tf(lexicon, file_list):\n",
    "    \n",
    "    tf=np.zeros((len(lexicon),len(file_list)))\n",
    "    for j in range(len(file_list)): \n",
    "        content=file_list[j]\n",
    "        count=dict(collections.Counter(content)) \n",
    "        for word in count:\n",
    "            if word in lexicon:\n",
    "                i=lexicon[word]\n",
    "                tf[i][j]=count[word]\n",
    "    return tf\n",
    "    "
   ]
  },
  {
   "cell_type": "markdown",
   "metadata": {},
   "source": [
    "# Term Frequency Factor"
   ]
  },
  {
   "cell_type": "code",
   "execution_count": 8,
   "metadata": {
    "ExecuteTime": {
     "end_time": "2019-10-13T04:04:09.978192Z",
     "start_time": "2019-10-13T04:04:09.973195Z"
    }
   },
   "outputs": [],
   "source": [
    "def get_doc_len(doc_list):\n",
    "    doc_len=np.array([len(j) for j in doc_list])\n",
    "    return doc_len"
   ]
  },
  {
   "cell_type": "code",
   "execution_count": 9,
   "metadata": {
    "ExecuteTime": {
     "end_time": "2019-10-13T04:07:42.263185Z",
     "start_time": "2019-10-13T04:07:42.254187Z"
    }
   },
   "outputs": [],
   "source": [
    "def get_Fij(tf, doc_len, k1=1.2, b=0.75):\n",
    "    avg_len=doc_len.mean()\n",
    "    Fij=np.zeros(tf.shape)\n",
    "    for j in range(tf.shape[1]):\n",
    "        len_dj=doc_len[j]\n",
    "        for i in range(tf.shape[0]):\n",
    "            Fij[i][j]=(k1+1)*tf[i][j]/(k1*(1-b+b*len_dj/avg_len)+tf[i][j])\n",
    "    return Fij"
   ]
  },
  {
   "cell_type": "code",
   "execution_count": 10,
   "metadata": {},
   "outputs": [],
   "source": [
    "def get_Fiq(tf, k3=1.2):\n",
    "    Fiq=np.zeros(tf.shape)\n",
    "    for q in range(tf.shape[1]):\n",
    "        for i in range(tf.shape[0]):\n",
    "            Fiq[i][q]=(k3+1)*tf[i][q]/(k3+tf[i][q])\n",
    "    return Fiq"
   ]
  },
  {
   "cell_type": "markdown",
   "metadata": {},
   "source": [
    "# Inverse Document Frequency"
   ]
  },
  {
   "cell_type": "code",
   "execution_count": 11,
   "metadata": {
    "ExecuteTime": {
     "end_time": "2019-10-13T04:04:09.997185Z",
     "start_time": "2019-10-13T04:04:09.990186Z"
    }
   },
   "outputs": [],
   "source": [
    "def get_idf(lexicon, file_list):\n",
    "    \n",
    "    df=np.zeros(len(lexicon))\n",
    "    for j in range(len(file_list)): \n",
    "        appear=np.zeros(len(lexicon))\n",
    "        content=file_list[j]\n",
    "        count=dict(collections.Counter(content)) \n",
    "        for word in count:\n",
    "            if word in lexicon:\n",
    "                i=lexicon[word]\n",
    "                appear[i]=1\n",
    "        df=np.add(df,appear)\n",
    "    \n",
    "    idf = np.log((len(file_list)-df+0.5)/(df+0.5))\n",
    "    return idf"
   ]
  },
  {
   "cell_type": "markdown",
   "metadata": {},
   "source": [
    "# Similarity"
   ]
  },
  {
   "cell_type": "code",
   "execution_count": 12,
   "metadata": {
    "ExecuteTime": {
     "end_time": "2019-10-13T04:15:58.116186Z",
     "start_time": "2019-10-13T04:15:58.111187Z"
    }
   },
   "outputs": [],
   "source": [
    "def BM25_sim(doc_list,qry_list,lexicon,Fij,Fiq,idf):\n",
    "    sim=np.zeros((len(qry_list),len(doc_list)))\n",
    "    for q in range(len(qry_list)):\n",
    "        for j in range(len(doc_list)):\n",
    "            intersection=list(set(qry_list[q]) & set(doc_list[j]))\n",
    "            for word in intersection:\n",
    "                i=lexicon[word]\n",
    "                sim[q][j]+=Fij[i][j]*Fiq[i][q]*idf[i]\n",
    "    return sim"
   ]
  },
  {
   "cell_type": "markdown",
   "metadata": {},
   "source": [
    "# Ranking & Output result"
   ]
  },
  {
   "cell_type": "markdown",
   "metadata": {},
   "source": [
    "> k = [1.2, 2], b = [0,1]\n",
    "\n",
    "* (k1, k3, b) = (1.2, 1.2, 0.75), score = 0.50876\n",
    "* (k1, k3, b) = (2.0, 2.0, 0.75), score = 0.53374\n",
    "* (k1, k3, b) = (2.0, 2.0, 1.00), score = 0.52032"
   ]
  },
  {
   "cell_type": "code",
   "execution_count": 15,
   "metadata": {
    "ExecuteTime": {
     "end_time": "2019-10-13T04:16:39.566186Z",
     "start_time": "2019-10-13T04:16:01.065189Z"
    }
   },
   "outputs": [
    {
     "name": "stdout",
     "output_type": "stream",
     "text": [
      "Wall time: 1min 22s\n"
     ]
    }
   ],
   "source": [
    "%%time\n",
    "(k1, k3, b) = (2.0, 2.0, 1.00)\n",
    "lexicon=creat_lexicon(doc_list)\n",
    "tfij=get_tf(lexicon, doc_list)\n",
    "tfiq=get_tf(lexicon, qry_list)\n",
    "doc_len=get_doc_len(doc_list)\n",
    "Fij=get_Fij(tfij, doc_len, k1, b)\n",
    "Fiq=get_Fiq(tfiq, k3)\n",
    "idf=get_idf(lexicon, doc_list)\n",
    "sim=BM25_sim(doc_list,qry_list,lexicon,Fij,Fiq,idf)"
   ]
  },
  {
   "cell_type": "code",
   "execution_count": 16,
   "metadata": {
    "ExecuteTime": {
     "end_time": "2019-10-13T04:16:50.345185Z",
     "start_time": "2019-10-13T04:16:50.256190Z"
    }
   },
   "outputs": [
    {
     "name": "stdout",
     "output_type": "stream",
     "text": [
      "Wall time: 29.9 ms\n"
     ]
    }
   ],
   "source": [
    "%%time\n",
    "\n",
    "fname = \"./result.txt\"\n",
    "f = open(fname, 'w')\n",
    "f.write(\"Query,RetrievedDocuments\\n\")  \n",
    "\n",
    "for q in range(len(qry_list)):\n",
    "    f.write(queries[q] + \",\")        \n",
    "    rank = np.argsort(-sim[q])\n",
    "    for j in rank:\n",
    "        f.write(docs[j]+\" \")\n",
    "    f.write(\"\\n\")\n",
    "f.close()"
   ]
  },
  {
   "cell_type": "code",
   "execution_count": null,
   "metadata": {},
   "outputs": [],
   "source": []
  }
 ],
 "metadata": {
  "kernelspec": {
   "display_name": "Python 3",
   "language": "python",
   "name": "python3"
  },
  "language_info": {
   "codemirror_mode": {
    "name": "ipython",
    "version": 3
   },
   "file_extension": ".py",
   "mimetype": "text/x-python",
   "name": "python",
   "nbconvert_exporter": "python",
   "pygments_lexer": "ipython3",
   "version": "3.7.3"
  },
  "toc": {
   "base_numbering": 1,
   "nav_menu": {},
   "number_sections": true,
   "sideBar": true,
   "skip_h1_title": false,
   "title_cell": "Table of Contents",
   "title_sidebar": "Contents",
   "toc_cell": false,
   "toc_position": {},
   "toc_section_display": true,
   "toc_window_display": false
  },
  "varInspector": {
   "cols": {
    "lenName": 16,
    "lenType": 16,
    "lenVar": 40
   },
   "kernels_config": {
    "python": {
     "delete_cmd_postfix": "",
     "delete_cmd_prefix": "del ",
     "library": "var_list.py",
     "varRefreshCmd": "print(var_dic_list())"
    },
    "r": {
     "delete_cmd_postfix": ") ",
     "delete_cmd_prefix": "rm(",
     "library": "var_list.r",
     "varRefreshCmd": "cat(var_dic_list()) "
    }
   },
   "types_to_exclude": [
    "module",
    "function",
    "builtin_function_or_method",
    "instance",
    "_Feature"
   ],
   "window_display": false
  }
 },
 "nbformat": 4,
 "nbformat_minor": 2
}
